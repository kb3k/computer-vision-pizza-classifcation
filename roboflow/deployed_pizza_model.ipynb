{
 "cells": [
  {
   "cell_type": "code",
   "execution_count": null,
   "id": "0c5e1643",
   "metadata": {},
   "outputs": [],
   "source": [
    "from inference_sdk import InferenceHTTPClient"
   ]
  },
  {
   "cell_type": "code",
   "execution_count": 4,
   "id": "facecbb5",
   "metadata": {},
   "outputs": [],
   "source": [
    "client = InferenceHTTPClient(\n",
    "    api_url=\"https://detect.roboflow.com\",\n",
    "    api_key=\"I7vPCRvE0GJUpz3GRLB8\"\n",
    ")\n",
    "\n",
    "result = client.run_workflow(\n",
    "    workspace_name=\"shenanigans\",\n",
    "    workflow_id=\"detect-and-classify\",\n",
    "    images={\n",
    "        \"image\": \"deepdish_validation.jpg\"\n",
    "    },\n",
    "    use_cache=True # cache workflow definition for 15 minutes\n",
    ")"
   ]
  },
  {
   "cell_type": "code",
   "execution_count": 27,
   "id": "5d37a7a9",
   "metadata": {},
   "outputs": [
    {
     "name": "stdout",
     "output_type": "stream",
     "text": [
      "Predicted deepdish with 58.06% confidence.\n",
      "Predicted deepdish with 52.04% confidence.\n"
     ]
    }
   ],
   "source": [
    "for item in result[0][\"classification_predictions\"]:\n",
    "    print(f\"Predicted {item['predictions']['top']} with {round(item['predictions']['confidence']*100, 2)}% confidence.\")"
   ]
  },
  {
   "cell_type": "code",
   "execution_count": 30,
   "id": "c71cbcc0",
   "metadata": {},
   "outputs": [],
   "source": [
    "result2 = client.run_workflow(\n",
    "    workspace_name=\"shenanigans\",\n",
    "    workflow_id=\"detect-and-classify\",\n",
    "    images={\n",
    "        \"image\": \"napoletana_validation.jpg\"\n",
    "    },\n",
    "    use_cache=True # cache workflow definition for 15 minutes\n",
    ")"
   ]
  },
  {
   "cell_type": "code",
   "execution_count": 31,
   "id": "cf954677",
   "metadata": {},
   "outputs": [
    {
     "name": "stdout",
     "output_type": "stream",
     "text": [
      "Predicted napoletana with 94.42% confidence.\n"
     ]
    }
   ],
   "source": [
    "for item in result2[0][\"classification_predictions\"]:\n",
    "    print(f\"Predicted {item['predictions']['top']} with {round(item['predictions']['confidence']*100, 2)}% confidence.\")"
   ]
  },
  {
   "cell_type": "code",
   "execution_count": null,
   "id": "e408a424",
   "metadata": {},
   "outputs": [],
   "source": []
  }
 ],
 "metadata": {
  "kernelspec": {
   "display_name": "cv_pizza_env",
   "language": "python",
   "name": "cv_pizza_env"
  },
  "language_info": {
   "codemirror_mode": {
    "name": "ipython",
    "version": 3
   },
   "file_extension": ".py",
   "mimetype": "text/x-python",
   "name": "python",
   "nbconvert_exporter": "python",
   "pygments_lexer": "ipython3",
   "version": "3.10.0"
  }
 },
 "nbformat": 4,
 "nbformat_minor": 5
}
